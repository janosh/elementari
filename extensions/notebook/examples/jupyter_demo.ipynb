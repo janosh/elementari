# Import the extension (automatically registers MIME renderers)
import matterviz_notebook
from matterviz_notebook import StructureWidget, TrajectoryWidget

# Import structure libraries
import json
from pathlib import Path

# Optional: Import ASE and pymatgen if available
try:
    from ase.io import read as ase_read
    from ase import Atoms
    ASE_AVAILABLE = True
except ImportError:
    ASE_AVAILABLE = False
    print("ASE not available - install with: pip install ase")

try:
    from pymatgen.core import Structure
    PYMATGEN_AVAILABLE = True
except ImportError:
    PYMATGEN_AVAILABLE = False
    print("pymatgen not available - install with: pip install pymatgen")

print("MatterViz notebook extension loaded!")# MatterViz Notebook Extension Demo

This notebook demonstrates the capabilities of the MatterViz notebook extension for visualizing crystal structures and molecular dynamics trajectories in Jupyter notebooks.

## Installation

```bash
pip install matterviz-notebook[all]
```